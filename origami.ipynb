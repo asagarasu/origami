{
 "cells": [
  {
   "cell_type": "code",
   "execution_count": null,
   "metadata": {},
   "outputs": [],
   "source": [
    "#########################################\n",
    "#           Python Version              #\n",
    "# 3.7.7 (default, May  6 2020, 04:59:01)# \n",
    "# [Clang 4.0.1 (tags/RELEASE_401/final)]#\n",
    "#########################################"
   ]
  },
  {
   "cell_type": "code",
   "execution_count": null,
   "metadata": {},
   "outputs": [],
   "source": [
    "from docx import Document  \n",
    "from docx.oxml.ns import qn  \n",
    "from docx.shared import Pt, RGBColor"
   ]
  },
  {
   "cell_type": "code",
   "execution_count": null,
   "metadata": {},
   "outputs": [],
   "source": [
    "def formatQuoteAt(lst):\n",
    "    k = []\n",
    "    for j in range(len(lst)):\n",
    "        if \"CQ:quote\" in lst[j]:\n",
    "            continue\n",
    "        elif \"CQ:at\" in lst[j]:\n",
    "            at_start = lst[j].find(\"@\")\n",
    "            lst[j] = lst[j][at_start:]\n",
    "            at_end = lst[j].find(\"&\")\n",
    "            lst[j] = lst[j][:at_end] + \"\\t\"\n",
    "            k.append(lst[j])\n",
    "        elif \"CQ:At\" in lst[j]:\n",
    "            at_start = lst[j].find(\"[\")\n",
    "            lst[j] = lst[j][:at_start]\n",
    "            k.append(lst[j])\n",
    "        else:\n",
    "            k.append(lst[j])\n",
    "    lst = [k[0]]\n",
    "    for p in range(1,len(k)):\n",
    "        lst = appendNonRepeat(lst, k[p])\n",
    "    return lst"
   ]
  },
  {
   "cell_type": "code",
   "execution_count": null,
   "metadata": {},
   "outputs": [],
   "source": [
    "def appendNonRepeat(clean, strip):\n",
    "    if (strip not in clean[-1]):\n",
    "        clean.append(strip)\n",
    "    return clean"
   ]
  },
  {
   "cell_type": "code",
   "execution_count": null,
   "metadata": {},
   "outputs": [],
   "source": [
    "def extractAlias(text):\n",
    "    aliasLst = []\n",
    "    cardNames = text.split(\"]:\")\n",
    "    for cardName in cardNames[:-1]:\n",
    "        cardName = cardName.split('[')[-1]\n",
    "        aliasLst.append(cardName)\n",
    "    atNames = text.split(\"&#93;.display]\")\n",
    "    for atName in atNames[:-1]:\n",
    "        atName = atName.split('@')[-1]\n",
    "        aliasLst.append(atName)\n",
    "    aliasLst = list(set(aliasLst))\n",
    "    alias = {}\n",
    "    for key in aliasLst:\n",
    "        alias[key] = ''\n",
    "    return alias"
   ]
  },
  {
   "cell_type": "code",
   "execution_count": null,
   "metadata": {},
   "outputs": [],
   "source": [
    "def enTransToC(string):\n",
    "    enPun = u',~!?()\"\\''\n",
    "    cPun = u'，～！？（）“‘'\n",
    "    table= {ord(f):ord(t) for f,t in zip(enPun,cPun)}\n",
    "    return string.translate(table)"
   ]
  },
  {
   "cell_type": "code",
   "execution_count": null,
   "metadata": {},
   "outputs": [],
   "source": [
    "def replaceAlias(text, alias):\n",
    "    for key in alias.keys():\n",
    "        text = text.replace(key, alias[key])\n",
    "    return text"
   ]
  },
  {
   "cell_type": "code",
   "execution_count": null,
   "metadata": {},
   "outputs": [],
   "source": [
    "def removeCQBot(textLst):\n",
    "    textLst = [i for i in textLst if (\"msg brief\" not in i) and (\"CQ:image\" not in i) and (\"切换到人物卡\" not in i) and (\"CQ:service\" not in i)]\n",
    "    return textLst"
   ]
  },
  {
   "cell_type": "code",
   "execution_count": null,
   "metadata": {},
   "outputs": [],
   "source": [
    "# read file and draft alias\n",
    "def stepOne(path, encoding):\n",
    "    # read file\n",
    "    with open(path, encoding=encoding) as f:\n",
    "        text = f.read()\n",
    "    # extract dictionary\n",
    "    print(extractAlias(text))\n",
    "    return text"
   ]
  },
  {
   "cell_type": "code",
   "execution_count": null,
   "metadata": {},
   "outputs": [],
   "source": [
    "# split and clean by line \n",
    "def stepTwo(text, alias):\n",
    "    # replace alias\n",
    "    text = replaceAlias(text, alias)\n",
    "    \n",
    "    # split to list\n",
    "    textLst = text.split(\"\\n\")\n",
    "    # remove image and reference\n",
    "    textLst = removeCQBot(textLst)\n",
    "    textLst = [i.strip() for i in textLst]\n",
    "    textLst = [i for i in textLst if i]\n",
    "\n",
    "    # clean by line    \n",
    "    clean = ['']\n",
    "    strip = ''\n",
    "    for i in textLst:\n",
    "        # detect start of a message\n",
    "        if (i[0] == '<'):\n",
    "            clean = appendNonRepeat(clean, strip)\n",
    "            print(i)\n",
    "            i = i.split(\"]\")\n",
    "            print(\"split\", i)\n",
    "            # detect bot message(with bot name and player name)\n",
    "            if (len(i)==3 and \"bot\" in i[0]):\n",
    "                i[1] = i[1] + \"]\"\n",
    "                i[-1] = i[-1] + \" \"\n",
    "            # detect quote and at\n",
    "            elif (len(i)>2):\n",
    "                i = formatQuoteAt(i)\n",
    "                if ':\\t' != i[1][:2]:\n",
    "                    i[0] = i[0] +':\\t'\n",
    "            print(\"whyyy\", i)\n",
    "            i[0] = i[0].split(\"[\")[1]\n",
    "            strip = \"\".join(i)\n",
    "        else:\n",
    "            i = i.split(\"]\")\n",
    "            i = formatQuoteAt(i)\n",
    "            i = \"\".join(i)\n",
    "            strip = strip + i\n",
    "    clean = appendNonRepeat(clean, strip)\n",
    "    clean = \"\\n\".join(clean[1:])\n",
    "    \n",
    "    # fix punctuations\n",
    "    clean = enTransToC(clean)\n",
    "    \n",
    "    return clean"
   ]
  },
  {
   "cell_type": "code",
   "execution_count": null,
   "metadata": {},
   "outputs": [],
   "source": [
    "# encoding and write file\n",
    "def stepThree(clean, encoding, path):\n",
    "    clean.encode(encoding)\n",
    "    with open(path, \"w\", encoding=encoding) as f:\n",
    "        f.write(clean)"
   ]
  },
  {
   "cell_type": "code",
   "execution_count": null,
   "metadata": {},
   "outputs": [],
   "source": [
    "def removePare(text):\n",
    "    clean = []\n",
    "    marked = []\n",
    "    for i in text:\n",
    "        i = i.strip()\n",
    "        j = i.split('\\t')\n",
    "        if (len(j) == 1):\n",
    "            continue\n",
    "        elif (\"（\" == j[1][0]) \\\n",
    "            or (\"@\" in i and \"）\" in i[-1]) \\\n",
    "            or ((\"（\" not in i) and (\"）\" in i[-1])):\n",
    "            marked.append(\"pare:\\t\"+i)\n",
    "            continue\n",
    "        elif (\"（\" in i and \"）\" not in i):\n",
    "            i = \"\".join(i.split(\"（\")[:-1])\n",
    "            marked.append(i)\n",
    "            marked.append(\"pare:\\t\"+i)\n",
    "            clean.append(i)\n",
    "        else:\n",
    "            marked.append(i)\n",
    "            clean.append(i)\n",
    "    clean = \"\\n\".join(clean)\n",
    "    return marked, clean\n",
    "\n",
    "def stepFour(path, encoding):\n",
    "    with open(path, encoding=encoding) as f:\n",
    "        text = f.readlines()    \n",
    "    clean = removePare(text)\n",
    "    return clean"
   ]
  },
  {
   "cell_type": "code",
   "execution_count": null,
   "metadata": {},
   "outputs": [],
   "source": [
    "def extractPalette(textLst):\n",
    "    names = []\n",
    "    for i in textLst:\n",
    "        names.append(i[0])\n",
    "    names = list(set(names))\n",
    "    palette = {}\n",
    "    for key in names:\n",
    "        palette[key] = (0x0, 0x0, 0x0)\n",
    "    palette[\"pare\"] = (241, 220, 167)\n",
    "    return palette\n",
    "\n",
    "def stepFive(text):\n",
    "    textLst = text.split(\"\\n\")\n",
    "    textLstSplit = [i.split(\":\\t\") for i in textLst]\n",
    "    print(extractPalette(textLstSplit))\n",
    "    return textLst"
   ]
  },
  {
   "cell_type": "code",
   "execution_count": null,
   "metadata": {},
   "outputs": [],
   "source": [
    "def writeBleached(textLst, path, font, fontSize):\n",
    "    document = Document()\n",
    "    document.styles['Normal'].font.name = font  \n",
    "    document.styles['Normal']._element.rPr.rFonts.set(qn('w:eastAsia'), font)  \n",
    "    document.styles['Normal'].font.size = Pt(fontSize) \n",
    "    paragraph = document.add_paragraph()\n",
    "    textLstSplit = [i.split(\":\\t\") for i in textLst]\n",
    "    for i in textLstSplit:\n",
    "        run = paragraph.add_run(':\\t'.join(i)+'\\n')\n",
    "        rgb = palette[i[0]]\n",
    "        run.font.color.rgb = RGBColor(rgb[0], rgb[1], rgb[2])\n",
    "    document.save(path)\n",
    "    \n",
    "def writeRaw(textLst, path, font, fontSize):\n",
    "    document = Document()\n",
    "    document.styles['Normal'].font.name = font  \n",
    "    document.styles['Normal']._element.rPr.rFonts.set(qn('w:eastAsia'), font)  \n",
    "    document.styles['Normal'].font.size = Pt(fontSize) \n",
    "    paragraph = document.add_paragraph()\n",
    "    textLstSplit = [i.split(\":\\t\") for i in textLst]\n",
    "    for i in textLstSplit:\n",
    "        if i[0] == \"pare\":\n",
    "            run = paragraph.add_run(':\\t'.join(i[1:])+'\\n')\n",
    "            rgb = palette[i[0]]\n",
    "            run.font.color.rgb = RGBColor(rgb[0], rgb[1], rgb[2])\n",
    "        else:\n",
    "            run = paragraph.add_run(':\\t'.join(i)+'\\n')\n",
    "            rgb = palette[i[0]]\n",
    "            run.font.color.rgb = RGBColor(rgb[0], rgb[1], rgb[2])\n",
    "    document.save(path)\n",
    "    \n",
    "def stepSix(textLstRaw, textLstBleached, projectPath, toPath, font, fontSize):\n",
    "    pathRaw = projectPath + 'RAW-' + toPath.split('.')[0] + '.docx'\n",
    "    writeRaw(textLstRaw, pathRaw, font, fontSize)\n",
    "    pathBleached = projectPath + 'BLEACHED-' + toPath.split('.')[0] + '.docx'\n",
    "    writeBleached(textLstBleached, pathBleached, font, fontSize)"
   ]
  },
  {
   "cell_type": "code",
   "execution_count": null,
   "metadata": {},
   "outputs": [],
   "source": [
    "#####################\n",
    "#    START HERE     #\n",
    "#####################\n",
    "\n",
    "###########################\n",
    "#    PHASE I: CLEANING    #\n",
    "###########################"
   ]
  },
  {
   "cell_type": "code",
   "execution_count": null,
   "metadata": {
    "scrolled": false
   },
   "outputs": [],
   "source": [
    "PROJECT_PATH = \"log/logname/\"\n",
    "FROM_PATH = \"《logname》原文件.txt\"\n",
    "TO_PATH = \"logname.txt\"\n",
    "\n",
    "FROM_ENCODING = \"gbk\"\n",
    "TO_ENCODING = \"utf-8\"\n",
    "\n",
    "FONT = 'FangSong'\n",
    "FONTSIZE = 10.5\n",
    "\n",
    "# read file and draft alias\n",
    "text = stepOne(PROJECT_PATH+FROM_PATH, FROM_ENCODING)"
   ]
  },
  {
   "cell_type": "code",
   "execution_count": null,
   "metadata": {},
   "outputs": [],
   "source": [
    "# fill the correct alias\n",
    "alias = {'骰娘': 'bot'}"
   ]
  },
  {
   "cell_type": "code",
   "execution_count": null,
   "metadata": {},
   "outputs": [],
   "source": [
    "# clean by line\n",
    "clean = stepTwo(text, alias)\n",
    "\n",
    "# check result in jupyter notebook\n",
    "print(clean)"
   ]
  },
  {
   "cell_type": "code",
   "execution_count": null,
   "metadata": {},
   "outputs": [],
   "source": [
    "# encoding and write file\n",
    "stepThree(clean, TO_ENCODING, PROJECT_PATH+'RAW-'+TO_PATH)"
   ]
  },
  {
   "cell_type": "code",
   "execution_count": null,
   "metadata": {},
   "outputs": [],
   "source": [
    "###############################\n",
    "#    PHASE II: REMOVE PARE    #\n",
    "###############################"
   ]
  },
  {
   "cell_type": "code",
   "execution_count": null,
   "metadata": {
    "scrolled": true
   },
   "outputs": [],
   "source": [
    "# remove parentheses and review\n",
    "marked, clean = stepFour(PROJECT_PATH+'RAW-'+TO_PATH, TO_ENCODING)\n",
    "print(clean)"
   ]
  },
  {
   "cell_type": "code",
   "execution_count": null,
   "metadata": {},
   "outputs": [],
   "source": [
    "# encoding and write file\n",
    "stepThree(clean, TO_ENCODING, PROJECT_PATH+'BLEACHED-'+TO_PATH)"
   ]
  },
  {
   "cell_type": "code",
   "execution_count": null,
   "metadata": {},
   "outputs": [],
   "source": [
    "###############################\n",
    "#      PHASE III: DYEING      #\n",
    "###############################"
   ]
  },
  {
   "cell_type": "code",
   "execution_count": null,
   "metadata": {},
   "outputs": [],
   "source": [
    "clean = stepFive(clean)"
   ]
  },
  {
   "cell_type": "code",
   "execution_count": null,
   "metadata": {},
   "outputs": [],
   "source": [
    "palette = {'bot': (255, 201, 92), \n",
    "           'pare': (185, 177, 155)\n",
    "          }"
   ]
  },
  {
   "cell_type": "code",
   "execution_count": null,
   "metadata": {},
   "outputs": [],
   "source": [
    "stepSix(marked, clean, PROJECT_PATH, TO_PATH, FONT, FONTSIZE)"
   ]
  },
  {
   "cell_type": "code",
   "execution_count": null,
   "metadata": {},
   "outputs": [],
   "source": []
  },
  {
   "cell_type": "code",
   "execution_count": null,
   "metadata": {},
   "outputs": [],
   "source": []
  }
 ],
 "metadata": {
  "kernelspec": {
   "display_name": "Python 3",
   "language": "python",
   "name": "python3"
  },
  "language_info": {
   "codemirror_mode": {
    "name": "ipython",
    "version": 3
   },
   "file_extension": ".py",
   "mimetype": "text/x-python",
   "name": "python",
   "nbconvert_exporter": "python",
   "pygments_lexer": "ipython3",
   "version": "3.7.7"
  }
 },
 "nbformat": 4,
 "nbformat_minor": 4
}
